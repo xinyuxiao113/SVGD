{
 "cells": [
  {
   "cell_type": "markdown",
   "metadata": {},
   "source": [
    "## Import prepare"
   ]
  },
  {
   "cell_type": "code",
   "execution_count": 1,
   "metadata": {},
   "outputs": [],
   "source": [
    "import jax\n",
    "import jax.numpy as jnp\n",
    "import jax.random as rd\n",
    "import numpy as np\n",
    "from functools import partial\n",
    "from tqdm import tqdm\n",
    "import matplotlib.pyplot as plt\n",
    "import optax as optim"
   ]
  },
  {
   "cell_type": "code",
   "execution_count": 3,
   "metadata": {},
   "outputs": [
    {
     "data": {
      "text/plain": [
       "DeviceArray([-3.0000002,  2.0000002], dtype=float32)"
      ]
     },
     "execution_count": 3,
     "metadata": {},
     "output_type": "execute_result"
    }
   ],
   "source": [
    "a = jnp.array([[1,2],[3,5]])\n",
    "b = jnp.array([1,1])\n",
    "jnp.linalg.solve(a,b)"
   ]
  },
  {
   "cell_type": "markdown",
   "metadata": {},
   "source": [
    "## sympy calculation"
   ]
  },
  {
   "cell_type": "code",
   "execution_count": 4,
   "metadata": {},
   "outputs": [
    {
     "data": {
      "text/latex": [
       "$\\displaystyle 1$"
      ],
      "text/plain": [
       "1"
      ]
     },
     "execution_count": 4,
     "metadata": {},
     "output_type": "execute_result"
    }
   ],
   "source": [
    "import sympy as sym\n",
    "x1 = sym.Symbol('x1')\n",
    "x2 = sym.Symbol('x2')\n",
    "y1 = sym.Symbol('y1')\n",
    "y2 = sym.Symbol('y2')\n",
    "\n",
    "norm = sym.sqrt(y1**2+y2**2)\n",
    "x1 = norm*sym.cos(sym.atan2(y2,y1)+0.5*norm)\n",
    "x2 = norm*sym.sin(sym.atan2(y2,y1)+0.5*norm)\n",
    "\n",
    "func = sym.Matrix([x1,x2])\n",
    "args = sym.Matrix([y1,y2])\n",
    "D = func.jacobian(args)\n",
    "sym.simplify(sym.det(D))"
   ]
  },
  {
   "cell_type": "markdown",
   "metadata": {},
   "source": [
    "## kernel functions"
   ]
  },
  {
   "cell_type": "code",
   "execution_count": 10,
   "metadata": {},
   "outputs": [],
   "source": [
    "def k_RBF(x,y,h=1.0):\n",
    "    return jnp.exp(-1/h*jnp.sum((x-y)**2))\n",
    "\n",
    "def k_lap(x,y,h=1.0):\n",
    "    return jnp.exp(-1/h*jnp.sum(jnp.abs(x-y)))\n",
    "\n",
    "def k_linear(x,y):\n",
    "    return jnp.sum(x*y)\n",
    "\n",
    "def k_pol(x,y,r=1,n=2):\n",
    "    return (jnp.sum(x*y)+r)**2\n",
    "\n",
    "\n",
    "def k_IMQ(x,y,h=1.0):\n",
    "    return 1/jnp.sqrt(1+jnp.sum((x-y)**2)/(2*h))"
   ]
  },
  {
   "cell_type": "markdown",
   "metadata": {},
   "source": [
    "## target distributions"
   ]
  },
  {
   "cell_type": "markdown",
   "metadata": {},
   "source": [
    "- banana distribution\n",
    "$$\n",
    "x \\sim N(0,1)\n",
    "$$"
   ]
  },
  {
   "cell_type": "code",
   "execution_count": 11,
   "metadata": {},
   "outputs": [],
   "source": [
    "def gaussian(x,mu,Sigma):\n",
    "    k = x.shape[0]\n",
    "    Sigma_inv = jnp.linalg.inv(Sigma)\n",
    "    return 1/jnp.sqrt((2*jnp.pi)**k * jnp.abs(jnp.linalg.det(Sigma))) * jnp.exp(-0.5*(x-mu)@Sigma_inv@(x-mu))\n",
    "\n",
    "def logp_gaussian_1D(x,mu,sigma):\n",
    "    '''\n",
    "    R^p --> R\n",
    "    '''\n",
    "    return - jnp.sum((x-mu)**2/(2*sigma**2)) - jnp.log(sigma) - jnp.log(jnp.sqrt(2*jnp.pi))\n",
    "\n",
    "\n",
    "def logp_gaussian_nD(x,mu,Sigma):\n",
    "    return -0.5*(x-mu) @ jnp.linalg.inv(Sigma) @ (x-mu)\n",
    "\n",
    "\n",
    "def logp_neal(x, sigma=6):\n",
    "    return logp_gaussian_1D(x[0], sigma**2/4, sigma) + logp_gaussian_1D(x[1], 0, jnp.exp(0.5*x[0]))\n",
    "\n",
    "\n",
    "\n",
    "\n",
    "def logp_cross(x):\n",
    "    '''\n",
    "        Problem: numerical unstable.\n",
    "    '''\n",
    "    m1 = jnp.array([0,2])*1.0\n",
    "    m2 = jnp.array([-2,0])*1.0\n",
    "    m3 = jnp.array([2,0])*1.0\n",
    "    m4 = jnp.array([0,-2])*1.0\n",
    "\n",
    "    s1 = jnp.array([[0.15**2,0],[0,1]])\n",
    "    s2 = jnp.array([[1,0],[0,0.15**2]])\n",
    "\n",
    "    eps = 1e-8\n",
    "    return jnp.log(1/4*(gaussian(x,m1,s1) + gaussian(x,m2,s2) + gaussian(x,m3,s2) + gaussian(x,m4,s1)) + eps)\n",
    "\n",
    "def logp_banana(x,b=0.1):\n",
    "    y = jnp.array([x[0], -b*x[0]**2+x[1]+100*b])\n",
    "    mu = jnp.array([0,0])\n",
    "    Sigma = jnp.array([[100,0],[0,1]])*1.0\n",
    "    return logp_gaussian_nD(y, mu, Sigma)\n",
    "\n",
    "\n",
    "def logp_warp(x):\n",
    "    x1 = x[0]\n",
    "    x2 = x[1]\n",
    "    norm = jnp.sqrt(x1**2 + x2**2)\n",
    "    theta = jnp.arctan2(x2,x1) + 0.5*norm\n",
    "    y1 = norm*jnp.cos(theta)\n",
    "    y2 = norm*jnp.sin(theta)\n",
    "    y = jnp.array([y1,y2])\n",
    "    mu = jnp.array([0,0])\n",
    "    Sigma = jnp.array([[1,0],[0,0.12**2]])\n",
    "    return logp_gaussian_nD(y, mu, Sigma)\n",
    "\n",
    "def logp_cauchy(x,x0,gamma):\n",
    "    return jnp.log(gamma/jnp.pi/((x-x0)**2 + gamma**2))\n",
    "\n",
    "\n",
    "logp_gaussian1d_vmap = jax.vmap(logp_gaussian_1D,in_axes=(0,None,0),out_axes=0)\n",
    "\n",
    "def logp_neal_nD(x,sigma=6):\n",
    "    x1 = x[1::]\n",
    "    x0 = x[0:-1]\n",
    "    return logp_gaussian_1D(x[0], sigma**2/4, sigma) + jnp.sum(logp_gaussian1d_vmap(x1, 0, jnp.exp(0.5*x0)))\n"
   ]
  },
  {
   "cell_type": "markdown",
   "metadata": {},
   "source": [
    "## SVGD definition\n",
    "\n",
    "Implement:\n",
    "- momentum\n",
    "- batch\n",
    "\n",
    "Questions:\n",
    "- How to choose kernel and h ? --- median trick\n",
    "- Gibbs + SVGD\n"
   ]
  },
  {
   "cell_type": "code",
   "execution_count": 63,
   "metadata": {},
   "outputs": [],
   "source": [
    "import numpy as np\n",
    "from scipy.spatial.distance import pdist, squareform\n",
    "\n",
    "def get_midian_h(X):\n",
    "    sq_dist = pdist(X)\n",
    "    pairwise_dists = squareform(sq_dist)**2\n",
    "    h = np.median(pairwise_dists)\n",
    "    h = np.sqrt(0.5 * h / np.log(X.shape[0] + 1))\n",
    "    return h"
   ]
  },
  {
   "cell_type": "code",
   "execution_count": 12,
   "metadata": {},
   "outputs": [],
   "source": [
    "def SVGD_sampler(logp, k, optimizer):\n",
    "    s = jax.grad(logp) # (p) --> (p)\n",
    "    S = jax.vmap(s,in_axes=0, out_axes=0) # (n,p) --> (n,p)\n",
    "    nabla_k = jax.grad(k, argnums=0)\n",
    "\n",
    "    def outer_op(f):\n",
    "        '''\n",
    "        return f(xi,xj)\n",
    "        '''\n",
    "        K1 = jax.vmap(f, in_axes=(0,None), out_axes=0)  # (p) x (n,p)  --> n\n",
    "        K = jax.vmap(K1, in_axes=(None,0), out_axes=1) # (n,p) x (n,p) --> (n,n)\n",
    "        return K\n",
    "\n",
    "    K = outer_op(k)\n",
    "    nabla_K = outer_op(nabla_k)\n",
    "\n",
    "\n",
    "    def phi(X):\n",
    "        '''\n",
    "        Calculate gradient respect to KL divergence between empirical(X) and target distribution.\n",
    "        '''\n",
    "        n = X.shape[0]\n",
    "        return 1/n*(K(X,X).T @ S(X) + jnp.sum(nabla_K(X,X), axis=0))\n",
    "\n",
    "\n",
    "    @jax.jit\n",
    "    def update(X, opt_state):\n",
    "        grads = -phi(X)\n",
    "        updates, opt_state = optimizer.update(grads, opt_state, X)\n",
    "        X = optim.apply_updates(X, updates)\n",
    "        return X, opt_state\n",
    "\n",
    "\n",
    "\n",
    "    def SVGD(X, iter=1000):\n",
    "        samples = []\n",
    "        opt_state = optimizer.init(X)\n",
    "        for i in tqdm(range(iter),desc='sampling'):\n",
    "            X, opt_state = update(X,opt_state)\n",
    "            samples.append(jax.device_get(X))\n",
    "        return samples\n",
    "    \n",
    "\n",
    "    return SVGD\n"
   ]
  },
  {
   "cell_type": "markdown",
   "metadata": {},
   "source": [
    "## SVGD sampling"
   ]
  },
  {
   "cell_type": "code",
   "execution_count": 13,
   "metadata": {},
   "outputs": [],
   "source": [
    "# Initialize data structure\n",
    "samples = {}"
   ]
  },
  {
   "cell_type": "markdown",
   "metadata": {},
   "source": [
    "### 1. warp gaussian"
   ]
  },
  {
   "cell_type": "code",
   "execution_count": 14,
   "metadata": {},
   "outputs": [
    {
     "name": "stderr",
     "output_type": "stream",
     "text": [
      "sampling: 100%|██████████| 1000/1000 [00:25<00:00, 38.60it/s]\n"
     ]
    },
    {
     "data": {
      "text/plain": [
       "<matplotlib.collections.PathCollection at 0x7fcf06a0d6d0>"
      ]
     },
     "execution_count": 14,
     "metadata": {},
     "output_type": "execute_result"
    },
    {
     "data": {
      "image/png": "[encoded data removed]",
      "text/plain": [
       "<Figure size 432x288 with 1 Axes>"
      ]
     },
     "metadata": {
      "needs_background": "light"
     },
     "output_type": "display_data"
    }
   ],
   "source": [
    "SVGD = SVGD_sampler(logp=logp_warp, k=k_RBF, optimizer=optim.adam(learning_rate=0.01))\n",
    "X = rd.normal(rd.PRNGKey(12), (1000,2))*2\n",
    "samples = {}\n",
    "samples['warp_RBF'] = SVGD(X,iter=1000)\n",
    "\n",
    "\n",
    "n = -2\n",
    "plt.scatter(samples['warp_RBF'][n][:,0],samples['warp_RBF'][n][:,1], s=3)"
   ]
  },
  {
   "cell_type": "markdown",
   "metadata": {},
   "source": [
    "### 2.banana distribution"
   ]
  },
  {
   "cell_type": "code",
   "execution_count": 208,
   "metadata": {},
   "outputs": [
    {
     "name": "stderr",
     "output_type": "stream",
     "text": [
      "sampling: 100%|██████████| 1000/1000 [00:03<00:00, 287.78it/s]\n"
     ]
    },
    {
     "data": {
      "text/plain": [
       "<matplotlib.collections.PathCollection at 0x7fbd67aba0a0>"
      ]
     },
     "execution_count": 208,
     "metadata": {},
     "output_type": "execute_result"
    },
    {
     "data": {
      "image/png": "[encoded data removed]",
      "text/plain": [
       "<Figure size 432x288 with 1 Axes>"
      ]
     },
     "metadata": {
      "needs_background": "light"
     },
     "output_type": "display_data"
    }
   ],
   "source": [
    "SVGD = SVGD_sampler(logp=logp_banana, k=k_RBF, optimizer=optim.adam(learning_rate=1))\n",
    "X = rd.normal(rd.PRNGKey(12), (500,2))*10\n",
    "samples = SVGD(X,iter=1000)\n",
    "\n",
    "n = -1\n",
    "plt.scatter(samples[n][:,0],samples[n][:,1], s=3)"
   ]
  },
  {
   "cell_type": "markdown",
   "metadata": {},
   "source": [
    "### 3. neal distribution"
   ]
  },
  {
   "cell_type": "code",
   "execution_count": 216,
   "metadata": {},
   "outputs": [
    {
     "name": "stderr",
     "output_type": "stream",
     "text": [
      "sampling: 100%|██████████| 1000/1000 [00:15<00:00, 65.10it/s]\n"
     ]
    },
    {
     "data": {
      "text/plain": [
       "<matplotlib.collections.PathCollection at 0x7fbd72be37c0>"
      ]
     },
     "execution_count": 216,
     "metadata": {},
     "output_type": "execute_result"
    },
    {
     "data": {
      "image/png": "[encoded data removed]",
      "text/plain": [
       "<Figure size 432x288 with 1 Axes>"
      ]
     },
     "metadata": {
      "needs_background": "light"
     },
     "output_type": "display_data"
    }
   ],
   "source": [
    "SVGD = SVGD_sampler(logp=logp_neal, k=k_RBF, optimizer=optim.adam(learning_rate=0.1))\n",
    "X = rd.normal(rd.PRNGKey(12), (1000,2))*2\n",
    "samples = SVGD(X,iter=1000)\n",
    "\n",
    "n = -10\n",
    "plt.scatter(samples[n][:,0],samples[n][:,1], s=3)"
   ]
  },
  {
   "cell_type": "markdown",
   "metadata": {},
   "source": [
    "### 4.cross distribution"
   ]
  },
  {
   "cell_type": "code",
   "execution_count": 249,
   "metadata": {},
   "outputs": [
    {
     "name": "stderr",
     "output_type": "stream",
     "text": [
      "sampling: 100%|██████████| 1000/1000 [00:54<00:00, 18.31it/s]\n"
     ]
    }
   ],
   "source": [
    "SVGD = SVGD_sampler(logp=logp_cross, k=k_lap, optimizer=optim.adam(learning_rate=0.1))\n",
    "X = rd.normal(rd.PRNGKey(23), (2000,2))\n",
    "samples = SVGD(X,iter=1000)"
   ]
  },
  {
   "cell_type": "code",
   "execution_count": 248,
   "metadata": {},
   "outputs": [
    {
     "data": {
      "text/plain": [
       "<matplotlib.collections.PathCollection at 0x7fbd4952abe0>"
      ]
     },
     "execution_count": 248,
     "metadata": {},
     "output_type": "execute_result"
    },
    {
     "data": {
      "image/png": "[encoded data removed]",
      "text/plain": [
       "<Figure size 432x288 with 1 Axes>"
      ]
     },
     "metadata": {
      "needs_background": "light"
     },
     "output_type": "display_data"
    }
   ],
   "source": [
    "n = -1\n",
    "plt.scatter(samples[n][:,0],samples[n][:,1], s=3)"
   ]
  }
 ],
 "metadata": {
  "interpreter": {
   "hash": "4edd9890426c864c47213990e8c3687b200c2c20f7e6008b3619a88f050e9186"
  },
  "kernelspec": {
   "display_name": "Python 3 (ipykernel)",
   "language": "python",
   "name": "python3"
  },
  "language_info": {
   "codemirror_mode": {
    "name": "ipython",
    "version": 3
   },
   "file_extension": ".py",
   "mimetype": "text/x-python",
   "name": "python",
   "nbconvert_exporter": "python",
   "pygments_lexer": "ipython3",
   "version": "3.7.13"
  }
 },
 "nbformat": 4,
 "nbformat_minor": 2
}
